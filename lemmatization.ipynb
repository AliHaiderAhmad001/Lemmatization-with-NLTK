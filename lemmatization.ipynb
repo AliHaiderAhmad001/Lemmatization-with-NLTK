{
  "cells": [
    {
      "cell_type": "markdown",
      "source": [
        "# **ALI Haider Ahmed**\n",
        "\n",
        "---\n",
        "\n",
        "## Code for applying lemmatization to text\n"
      ],
      "metadata": {
        "id": "kXxaREsAgfRK"
      }
    },
    {
      "cell_type": "code",
      "source": [
        "# Code for applying lemmatization to text\n",
        "# It might need a little development\n",
        "POS_adapter={\n",
        "    'VVB':'v',\n",
        "    'VBD':'v',\n",
        "    'VBG':'v',\n",
        "    'VBN':'v',\n",
        "    'VBP':'v',\n",
        "    'VBZ':'v',\n",
        "    'NN':'n',\n",
        "    'NNS':'n',\n",
        "    'NNP':'n',\n",
        "    'NNPS':'n',\n",
        "    'JJ':'a',\n",
        "    'JJR':'a',\n",
        "    'JJS':'s',\n",
        "    'RB':'r',\n",
        "    'RBR':'r',\n",
        "    'RBS':'r'\n",
        "}\n",
        "\n",
        "def wordToLemma(token):\n",
        "  import nltk \n",
        "  from nltk.stem import WordNetLemmatizer\n",
        "  lemmatizer = WordNetLemmatizer()\n",
        "  pos_tag=nltk.pos_tag(token.split())[0][1]\n",
        "  return lemmatizer.lemmatize(token, pos =POS_adapter[pos_tag]) if pos_tag in POS_adapter.keys() else token\n",
        "\n",
        "def textNormlaization(text):\n",
        "  return \" \".join([wordToLemma(token) for token in text.split()])"
      ],
      "metadata": {
        "id": "goiBtsTciCYP"
      },
      "execution_count": 3,
      "outputs": []
    },
    {
      "cell_type": "code",
      "source": [
        "textNormlaization('This is a good introduction to NLP')\n",
        "# This be a good introduction to NLP"
      ],
      "metadata": {
        "colab": {
          "base_uri": "https://localhost:8080/",
          "height": 35
        },
        "id": "T5cYFGOptcGv",
        "outputId": "b80bffa9-4ee3-4648-b007-b26b4389a303"
      },
      "execution_count": 14,
      "outputs": [
        {
          "output_type": "execute_result",
          "data": {
            "text/plain": [
              "'This be a good introduction to NLP'"
            ],
            "application/vnd.google.colaboratory.intrinsic+json": {
              "type": "string"
            }
          },
          "metadata": {},
          "execution_count": 14
        }
      ]
    }
  ],
  "metadata": {
    "colab": {
      "name": "lemmatization.ipynb",
      "provenance": [],
      "collapsed_sections": []
    },
    "kernelspec": {
      "display_name": "Python 3",
      "name": "python3"
    },
    "language_info": {
      "name": "python"
    }
  },
  "nbformat": 4,
  "nbformat_minor": 0
}